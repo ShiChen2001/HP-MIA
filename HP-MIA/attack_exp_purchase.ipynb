{
 "cells": [
  {
   "cell_type": "code",
   "execution_count": 1,
   "id": "c930016d-a378-48a7-84b7-e1477382c762",
   "metadata": {},
   "outputs": [],
   "source": [
    "import torch\n",
    "import torch.nn as nn\n",
    "from torchvision import datasets,transforms, models\n",
    "import torch.optim as optim\n",
    "from models import Net_purchase,Net_texas\n",
    "from train_process import Train_shadowmodel, Train_targetmodel, Load_shadowmodel, Load_targetmodel\n",
    "import os\n",
    "import argparse\n",
    "import numpy as np\n",
    "from my_dataloader import dataloader\n",
    "from train_eval import train, eval_model\n",
    "import matplotlib.pyplot as plt  \n",
    "from tqdm import tqdm\n",
    "from Compute_score import *\n",
    "import random"
   ]
  },
  {
   "cell_type": "code",
   "execution_count": 2,
   "id": "8f94fe7d-237c-428e-bc28-ef0fc82125c7",
   "metadata": {},
   "outputs": [
    {
     "data": {
      "text/plain": [
       "True"
      ]
     },
     "execution_count": 2,
     "metadata": {},
     "output_type": "execute_result"
    }
   ],
   "source": [
    "def setup_seed(seed):\n",
    "    random.seed(seed)\n",
    "    torch.manual_seed(seed)\n",
    "    torch.cuda.manual_seed_all(seed)\n",
    "    np.random.seed(seed)\n",
    "    torch.backends.cudnn.deterministic = True\n",
    "setup_seed(1)\n",
    "\n",
    "torch.cuda.is_available()"
   ]
  },
  {
   "cell_type": "code",
   "execution_count": 3,
   "id": "b6fc01c6-34f3-4ba7-afb4-d0069c575112",
   "metadata": {},
   "outputs": [],
   "source": [
    "dataset = 'purchase'#The dataset of choice between\"mnist\"  ，\"fashionmnist\", \"emnist\",\"cifar\" ,\"cifar100\",\"purchase\" and \"texas\".\n",
    "c_num = 100\n",
    "\n",
    "Net = Net_purchase\n",
    "loss = nn.CrossEntropyLoss()\n",
    "batch_size = 100\n",
    "target_in_loader,refen_a_loader,refen_b_loader,shadow_in_loader,shadow_out_loader,testloader = dataloader(dataset, batch_size)"
   ]
  },
  {
   "cell_type": "code",
   "execution_count": 6,
   "id": "bfa6bae8-c16a-4681-a274-c03b051759f4",
   "metadata": {},
   "outputs": [],
   "source": [
    "# selecte 20 models as reference models\n",
    "ref_model = []\n",
    "random_vector = np.random.choice(100, 20, replace=False).tolist()\n",
    "for i in range(20):\n",
    "    path = \"./ref_\"+ str(dataset)+\"/ref_\"+ str(random_vector[i]) + \"_\"+ str(dataset) + \".pth\"\n",
    "    model = Net()\n",
    "    model.load_state_dict(torch.load(path)) \n",
    "    ref_model.append(model)"
   ]
  },
  {
   "cell_type": "code",
   "execution_count": 8,
   "id": "e54dd15c-9760-4bfc-8b8a-63c507896b02",
   "metadata": {},
   "outputs": [
    {
     "data": {
      "text/plain": [
       "<All keys matched successfully>"
      ]
     },
     "execution_count": 8,
     "metadata": {},
     "output_type": "execute_result"
    }
   ],
   "source": [
    "path =  \"./target_shadow/target_\" + \"_\"+ str(dataset) + \".pth\"\n",
    "target_net = Net()\n",
    "target_net.load_state_dict(torch.load(path)) \n",
    "path =  \"./target_shadow/shadow_\" + \"_\"+ str(dataset) + \".pth\"\n",
    "shadow_net = Net()\n",
    "shadow_net.load_state_dict(torch.load(path)) "
   ]
  },
  {
   "cell_type": "code",
   "execution_count": 9,
   "id": "970d084a-20e1-44e4-942c-22afc517733c",
   "metadata": {},
   "outputs": [
    {
     "name": "stderr",
     "output_type": "stream",
     "text": [
      "/home/studio-lab-user/.conda/envs/default/lib/python3.9/site-packages/torch/nn/_reduction.py:42: UserWarning: size_average and reduce args will be deprecated, please use reduction='none' instead.\n",
      "  warnings.warn(warning.format(ret))\n",
      "100%|██████████| 200/200 [00:09<00:00, 22.19it/s]\n",
      "100%|██████████| 200/200 [00:08<00:00, 22.29it/s]\n",
      "100%|██████████| 200/200 [00:08<00:00, 22.39it/s]\n",
      "100%|██████████| 20/20 [00:07<00:00,  2.53it/s]\n"
     ]
    }
   ],
   "source": [
    "lossf = nn.CrossEntropyLoss(reduce=False)\n",
    "with torch.no_grad():\n",
    "    shadow0_in, shadow1_in = Com_Loss(shadow_net, ref_model, shadow_in_loader, lossf)\n",
    "    shadow0_out, shadow1_out = Com_Loss(shadow_net, ref_model, shadow_out_loader, lossf)\n",
    "    Score0_in,Score1_in = Com_Loss(target_net, ref_model, target_in_loader, lossf)\n",
    "    Score0_out,Score1_out = Com_Loss(target_net, ref_model, testloader, lossf)"
   ]
  },
  {
   "cell_type": "code",
   "execution_count": 10,
   "id": "8c404cac-964b-4535-8338-ac65a1e64090",
   "metadata": {},
   "outputs": [
    {
     "name": "stdout",
     "output_type": "stream",
     "text": [
      "Two-stage:mu = 0.900000,Pr = 0.918182, Recall/TPR = 0.035350,FPR = 0.003150, TP = 707\n",
      "C-Loss:mu = 0.900000,Pr = 0.928571, Recall/TPR = 0.000650,FPR = 0.000050, TP = 13\n",
      "Two-stage:mu = 0.920000,Pr = 0.920502, Recall/TPR = 0.011000,FPR = 0.000950, TP = 220\n",
      "C-Loss:mu = 0.920000,Pr = 0.916667, Recall/TPR = 0.000550,FPR = 0.000050, TP = 11\n",
      "Two-stage:mu = 0.940000,Pr = 0.917197, Recall/TPR = 0.007200,FPR = 0.000650, TP = 144\n",
      "C-Loss:mu = 0.940000,Pr = 0.916667, Recall/TPR = 0.000550,FPR = 0.000050, TP = 11\n",
      "Two-stage:mu = 0.960000,Pr = 0.942857, Recall/TPR = 0.003300,FPR = 0.000200, TP = 66\n",
      "C-Loss:mu = 0.960000,Pr = 0.916667, Recall/TPR = 0.000550,FPR = 0.000050, TP = 11\n",
      "Two-stage:mu = 0.980000,Pr = 1.000000, Recall/TPR = 0.001050,FPR = 0.000000, TP = 21\n",
      "C-Loss:mu = 0.980000,Pr = 0.916667, Recall/TPR = 0.000550,FPR = 0.000050, TP = 11\n"
     ]
    }
   ],
   "source": [
    "mu_list = [0.9,0.92,0.94,0.96,0.98]\n",
    "for i in range(len(mu_list)):\n",
    "    mu = mu_list[i]\n",
    "    t0,t1 = Twostage_create(shadow0_in,shadow1_in,shadow0_out,shadow1_out,mu)\n",
    "    TP,FP,TN,FN = Twostage_attack_eval(Score0_in,Score1_in,Score0_out,Score1_out,t0,t1)\n",
    "    if TP + FP != 0:\n",
    "        print('Two-stage:mu = %f,Pr = %f, Recall/TPR = %f,FPR = %f, TP = %d'%(mu,TP/(TP+FP),TP/(TP+FN),FP/(TN+FP),TP))\n",
    "    else:\n",
    "        print('Two-stage:mu = %f,TP+FP = %d,TP = %d'%(mu,TP+FP,TP))\n",
    "    t,flag = Onestage_create(shadow1_in,shadow1_out,mu)\n",
    "    TP,FP,TN,FN = Onestage_attack_eval(Score1_in,Score1_out,t)\n",
    "    if TP + FP != 0:\n",
    "        print('C-Loss:mu = %f,Pr = %f, Recall/TPR = %f,FPR = %f, TP = %d'%(mu,TP/(TP+FP),TP/(TP+FN),FP/(TN+FP),TP))\n",
    "    else:\n",
    "        print('C-Loss:mu = %f,flag = %d,TP+FP = %d,TP = %d'%(mu,flag,TP+FP,TP))"
   ]
  },
  {
   "cell_type": "code",
   "execution_count": null,
   "id": "e2674840-0a79-4075-bb11-731373ee3a7b",
   "metadata": {},
   "outputs": [],
   "source": []
  },
  {
   "cell_type": "code",
   "execution_count": null,
   "id": "30510e5a-1fa8-443f-9e27-4c841e024968",
   "metadata": {},
   "outputs": [],
   "source": []
  },
  {
   "cell_type": "code",
   "execution_count": null,
   "id": "85556314-9650-4077-a81d-9e17ce319471",
   "metadata": {},
   "outputs": [],
   "source": []
  }
 ],
 "metadata": {
  "kernelspec": {
   "display_name": "default:Python",
   "language": "python",
   "name": "conda-env-default-py"
  },
  "language_info": {
   "codemirror_mode": {
    "name": "ipython",
    "version": 3
   },
   "file_extension": ".py",
   "mimetype": "text/x-python",
   "name": "python",
   "nbconvert_exporter": "python",
   "pygments_lexer": "ipython3",
   "version": "3.9.7"
  }
 },
 "nbformat": 4,
 "nbformat_minor": 5
}
