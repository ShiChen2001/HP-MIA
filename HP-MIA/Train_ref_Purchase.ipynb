{
 "cells": [
  {
   "cell_type": "code",
   "execution_count": 1,
   "id": "f646bcd1-2753-4555-ae06-68dd605ea24e",
   "metadata": {},
   "outputs": [],
   "source": [
    "import torch\n",
    "import torch.nn as nn\n",
    "from torchvision import datasets,transforms, models\n",
    "import torch.optim as optim\n",
    "from models import Net_purchase\n",
    "from train_process import Train_shadowmodel, Train_targetmodel, Load_shadowmodel, Load_targetmodel\n",
    "import os\n",
    "import argparse\n",
    "import numpy as np\n",
    "from my_dataloader import dataloader\n",
    "from train_eval import train, eval_model\n",
    "import matplotlib.pyplot as plt  "
   ]
  },
  {
   "cell_type": "code",
   "execution_count": 2,
   "id": "196176b5-9503-487f-bc9d-1733d3263f3f",
   "metadata": {},
   "outputs": [
    {
     "data": {
      "text/plain": [
       "True"
      ]
     },
     "execution_count": 2,
     "metadata": {},
     "output_type": "execute_result"
    }
   ],
   "source": [
    "def setup_seed(seed):\n",
    "     torch.manual_seed(seed)\n",
    "     torch.cuda.manual_seed_all(seed)\n",
    "     np.random.seed(seed)\n",
    "     torch.backends.cudnn.deterministic = True\n",
    "setup_seed(1)\n",
    "\n",
    "torch.cuda.is_available()"
   ]
  },
  {
   "cell_type": "code",
   "execution_count": 3,
   "id": "343c00d3-d699-4aa3-a733-eb2de539acca",
   "metadata": {},
   "outputs": [],
   "source": [
    "dataset = 'purchase'#The dataset of choice between\"mnist\"  ，\"fashionmnist\", \"emnist\",\"cifar\" ,\"cifar100\",\"purchase\" and \"texas\".\n",
    "c_num = 100\n",
    "\n",
    "Net = Net_purchase\n",
    "loss = nn.CrossEntropyLoss()\n",
    "opt_echo = 100\n",
    "batch_size = 200\n",
    "lrate = 0.0001\n",
    "lamda = 0\n",
    "target_in_loader,refen_a_loader,refen_b_loader,shadow_in_loader,shadow_out_loader,testloader = dataloader(dataset, batch_size)"
   ]
  },
  {
   "cell_type": "code",
   "execution_count": 4,
   "id": "375be05c-12f5-4d29-9da6-f3b97cb4c83f",
   "metadata": {},
   "outputs": [
    {
     "name": "stdout",
     "output_type": "stream",
     "text": [
      "start training target model: \n",
      "Target model: epoch[100/100] Train loss: 0.58933 training set accuracy: 100.00000  test set accuracy: 81.83000\n"
     ]
    }
   ],
   "source": [
    "# target model\n",
    "path =  \"./target_shadow/target_\" + \"_\"+ str(dataset) + \".pth\"\n",
    "model =  Net( )\n",
    "device = torch.device(\"cuda:0\" if torch.cuda.is_available() else \"cpu\")\n",
    "model = model.to(device)\n",
    "opt = optim.Adam(model.parameters(), lr=lrate, weight_decay=lamda)\n",
    "Train_targetmodel(model, target_in_loader, loss, opt,  opt_echo, testloader, path, 1)"
   ]
  },
  {
   "cell_type": "code",
   "execution_count": 5,
   "id": "ace45a92-908a-4554-9206-43e7c036ee1e",
   "metadata": {},
   "outputs": [
    {
     "name": "stdout",
     "output_type": "stream",
     "text": [
      "start training shadow model: \n",
      "Shadow model: epoch[100/100] Train loss: 0.54958 training set accuracy: 100.00000  test set accuracy: 82.17000\n"
     ]
    }
   ],
   "source": [
    "# shadow model\n",
    "path = \"./target_shadow/shadow_\" + \"_\"+ str(dataset) + \".pth\"\n",
    "model =  Net( )\n",
    "device = torch.device(\"cuda:0\" if torch.cuda.is_available() else \"cpu\")\n",
    "model = model.to(device)\n",
    "opt = optim.Adam(model.parameters(), lr=lrate, weight_decay=lamda)\n",
    "Train_shadowmodel(model, shadow_in_loader, loss, opt,  opt_echo, shadow_out_loader, path, 1)"
   ]
  },
  {
   "cell_type": "code",
   "execution_count": 6,
   "id": "a2b2df88-461a-4f4a-b31d-a8c0d59ee6fe",
   "metadata": {},
   "outputs": [
    {
     "name": "stdout",
     "output_type": "stream",
     "text": [
      "start training shadow model: \n",
      "Shadow model: epoch[100/100] Train loss: 0.49042 training set accuracy: 100.00000  test set accuracy: 81.92000\n",
      "start training shadow model: \n",
      "Shadow model: epoch[100/100] Train loss: 0.53570 training set accuracy: 100.00000  test set accuracy: 82.20499\n",
      "start training shadow model: \n",
      "Shadow model: epoch[100/100] Train loss: 0.52046 training set accuracy: 100.00000  test set accuracy: 81.83000\n",
      "start training shadow model: \n",
      "Shadow model: epoch[100/100] Train loss: 0.60353 training set accuracy: 100.00000  test set accuracy: 82.17000\n",
      "start training shadow model: \n",
      "Shadow model: epoch[100/100] Train loss: 0.52481 training set accuracy: 100.00000  test set accuracy: 82.50500\n",
      "start training shadow model: \n",
      "Shadow model: epoch[100/100] Train loss: 0.56165 training set accuracy: 100.00000  test set accuracy: 81.84500\n",
      "start training shadow model: \n",
      "Shadow model: epoch[100/100] Train loss: 0.55210 training set accuracy: 100.00000  test set accuracy: 82.22000\n",
      "start training shadow model: \n",
      "Shadow model: epoch[100/100] Train loss: 0.53010 training set accuracy: 100.00000  test set accuracy: 82.04500\n",
      "start training shadow model: \n",
      "Shadow model: epoch[100/100] Train loss: 0.56908 training set accuracy: 100.00000  test set accuracy: 82.37499\n",
      "start training shadow model: \n",
      "Shadow model: epoch[100/100] Train loss: 0.56826 training set accuracy: 100.00000  test set accuracy: 81.77000\n"
     ]
    }
   ],
   "source": [
    "#  reference model\n",
    "# We actually trained 100 models for Purchase100\n",
    "for i in range(10):\n",
    "    shadow_path = \"./ref_\"+ str(dataset)+\"/ref_\"+ str(i) + \"_\"+ str(dataset) + \".pth\"\n",
    "    model =  Net( )\n",
    "    device = torch.device(\"cuda:0\" if torch.cuda.is_available() else \"cpu\")\n",
    "    model = model.to(device)\n",
    "    opt = optim.Adam(model.parameters(), lr=lrate, weight_decay=lamda)\n",
    "    Train_shadowmodel(model, refen_a_loader, loss, opt,  opt_echo, testloader, shadow_path, 1)"
   ]
  },
  {
   "cell_type": "code",
   "execution_count": null,
   "id": "100b2529-2879-4e48-827e-914b244059e9",
   "metadata": {},
   "outputs": [],
   "source": []
  },
  {
   "cell_type": "code",
   "execution_count": null,
   "id": "ffa628e2-9933-4efc-bca3-24780b582023",
   "metadata": {
    "tags": []
   },
   "outputs": [],
   "source": []
  },
  {
   "cell_type": "code",
   "execution_count": null,
   "id": "4f2fe90d-afd9-4f95-b424-39346113420b",
   "metadata": {},
   "outputs": [],
   "source": []
  },
  {
   "cell_type": "code",
   "execution_count": null,
   "id": "188b5178-7483-4ef8-85df-9d1e0f4284d2",
   "metadata": {},
   "outputs": [],
   "source": []
  }
 ],
 "metadata": {
  "kernelspec": {
   "display_name": "default:Python",
   "language": "python",
   "name": "conda-env-default-py"
  },
  "language_info": {
   "codemirror_mode": {
    "name": "ipython",
    "version": 3
   },
   "file_extension": ".py",
   "mimetype": "text/x-python",
   "name": "python",
   "nbconvert_exporter": "python",
   "pygments_lexer": "ipython3",
   "version": "3.9.7"
  }
 },
 "nbformat": 4,
 "nbformat_minor": 5
}
